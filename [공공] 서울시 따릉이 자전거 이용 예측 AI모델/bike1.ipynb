{
  "cells": [
    {
      "cell_type": "markdown",
      "id": "795d791f",
      "metadata": {
        "id": "795d791f"
      },
      "source": [
        "# 서울시 따릉이 자전거 이용 예측 AI모델"
      ]
    },
    {
      "cell_type": "markdown",
      "id": "2ce87e0f",
      "metadata": {
        "id": "2ce87e0f"
      },
      "source": [
        "## 데이터 로드 및 확인"
      ]
    },
    {
      "cell_type": "code",
      "execution_count": null,
      "id": "fcb49f9f",
      "metadata": {
        "id": "fcb49f9f"
      },
      "outputs": [],
      "source": [
        "import numpy as np\n",
        "import pandas as pd"
      ]
    },
    {
      "cell_type": "code",
      "execution_count": null,
      "id": "868c00db",
      "metadata": {
        "id": "868c00db"
      },
      "outputs": [],
      "source": [
        "df = pd.read_csv('./data/train.csv')"
      ]
    },
    {
      "cell_type": "code",
      "execution_count": null,
      "id": "10a9ed73",
      "metadata": {
        "id": "10a9ed73",
        "outputId": "36a56dee-80c9-4504-9914-a000885fe41a"
      },
      "outputs": [
        {
          "data": {
            "text/html": [
              "<div>\n",
              "<style scoped>\n",
              "    .dataframe tbody tr th:only-of-type {\n",
              "        vertical-align: middle;\n",
              "    }\n",
              "\n",
              "    .dataframe tbody tr th {\n",
              "        vertical-align: top;\n",
              "    }\n",
              "\n",
              "    .dataframe thead th {\n",
              "        text-align: right;\n",
              "    }\n",
              "</style>\n",
              "<table border=\"1\" class=\"dataframe\">\n",
              "  <thead>\n",
              "    <tr style=\"text-align: right;\">\n",
              "      <th></th>\n",
              "      <th>id</th>\n",
              "      <th>hour</th>\n",
              "      <th>hour_bef_temperature</th>\n",
              "      <th>hour_bef_precipitation</th>\n",
              "      <th>hour_bef_windspeed</th>\n",
              "      <th>hour_bef_humidity</th>\n",
              "      <th>hour_bef_visibility</th>\n",
              "      <th>hour_bef_ozone</th>\n",
              "      <th>hour_bef_pm10</th>\n",
              "      <th>hour_bef_pm2.5</th>\n",
              "      <th>count</th>\n",
              "    </tr>\n",
              "  </thead>\n",
              "  <tbody>\n",
              "    <tr>\n",
              "      <th>0</th>\n",
              "      <td>3</td>\n",
              "      <td>20</td>\n",
              "      <td>16.3</td>\n",
              "      <td>1.0</td>\n",
              "      <td>1.5</td>\n",
              "      <td>89.0</td>\n",
              "      <td>576.0</td>\n",
              "      <td>0.027</td>\n",
              "      <td>76.0</td>\n",
              "      <td>33.0</td>\n",
              "      <td>49.0</td>\n",
              "    </tr>\n",
              "    <tr>\n",
              "      <th>1</th>\n",
              "      <td>6</td>\n",
              "      <td>13</td>\n",
              "      <td>20.1</td>\n",
              "      <td>0.0</td>\n",
              "      <td>1.4</td>\n",
              "      <td>48.0</td>\n",
              "      <td>916.0</td>\n",
              "      <td>0.042</td>\n",
              "      <td>73.0</td>\n",
              "      <td>40.0</td>\n",
              "      <td>159.0</td>\n",
              "    </tr>\n",
              "  </tbody>\n",
              "</table>\n",
              "</div>"
            ],
            "text/plain": [
              "   id  hour  hour_bef_temperature  hour_bef_precipitation  hour_bef_windspeed  \\\n",
              "0   3    20                  16.3                     1.0                 1.5   \n",
              "1   6    13                  20.1                     0.0                 1.4   \n",
              "\n",
              "   hour_bef_humidity  hour_bef_visibility  hour_bef_ozone  hour_bef_pm10  \\\n",
              "0               89.0                576.0           0.027           76.0   \n",
              "1               48.0                916.0           0.042           73.0   \n",
              "\n",
              "   hour_bef_pm2.5  count  \n",
              "0            33.0   49.0  \n",
              "1            40.0  159.0  "
            ]
          },
          "execution_count": 39,
          "metadata": {},
          "output_type": "execute_result"
        }
      ],
      "source": [
        "df.head(2)"
      ]
    },
    {
      "cell_type": "code",
      "execution_count": null,
      "id": "bf6a827d",
      "metadata": {
        "id": "bf6a827d",
        "outputId": "157af33c-1730-4d62-981d-f76e55d315c0"
      },
      "outputs": [
        {
          "data": {
            "text/html": [
              "<div>\n",
              "<style scoped>\n",
              "    .dataframe tbody tr th:only-of-type {\n",
              "        vertical-align: middle;\n",
              "    }\n",
              "\n",
              "    .dataframe tbody tr th {\n",
              "        vertical-align: top;\n",
              "    }\n",
              "\n",
              "    .dataframe thead th {\n",
              "        text-align: right;\n",
              "    }\n",
              "</style>\n",
              "<table border=\"1\" class=\"dataframe\">\n",
              "  <thead>\n",
              "    <tr style=\"text-align: right;\">\n",
              "      <th></th>\n",
              "      <th>hour</th>\n",
              "      <th>hour_bef_temperature</th>\n",
              "      <th>hour_bef_precipitation</th>\n",
              "      <th>hour_bef_windspeed</th>\n",
              "      <th>hour_bef_humidity</th>\n",
              "      <th>hour_bef_visibility</th>\n",
              "      <th>hour_bef_ozone</th>\n",
              "      <th>hour_bef_pm10</th>\n",
              "      <th>hour_bef_pm2.5</th>\n",
              "      <th>count</th>\n",
              "    </tr>\n",
              "  </thead>\n",
              "  <tbody>\n",
              "    <tr>\n",
              "      <th>0</th>\n",
              "      <td>20</td>\n",
              "      <td>16.3</td>\n",
              "      <td>1.0</td>\n",
              "      <td>1.5</td>\n",
              "      <td>89.0</td>\n",
              "      <td>576.0</td>\n",
              "      <td>0.027</td>\n",
              "      <td>76.0</td>\n",
              "      <td>33.0</td>\n",
              "      <td>49.0</td>\n",
              "    </tr>\n",
              "    <tr>\n",
              "      <th>1</th>\n",
              "      <td>13</td>\n",
              "      <td>20.1</td>\n",
              "      <td>0.0</td>\n",
              "      <td>1.4</td>\n",
              "      <td>48.0</td>\n",
              "      <td>916.0</td>\n",
              "      <td>0.042</td>\n",
              "      <td>73.0</td>\n",
              "      <td>40.0</td>\n",
              "      <td>159.0</td>\n",
              "    </tr>\n",
              "    <tr>\n",
              "      <th>2</th>\n",
              "      <td>6</td>\n",
              "      <td>13.9</td>\n",
              "      <td>0.0</td>\n",
              "      <td>0.7</td>\n",
              "      <td>79.0</td>\n",
              "      <td>1382.0</td>\n",
              "      <td>0.033</td>\n",
              "      <td>32.0</td>\n",
              "      <td>19.0</td>\n",
              "      <td>26.0</td>\n",
              "    </tr>\n",
              "    <tr>\n",
              "      <th>3</th>\n",
              "      <td>23</td>\n",
              "      <td>8.1</td>\n",
              "      <td>0.0</td>\n",
              "      <td>2.7</td>\n",
              "      <td>54.0</td>\n",
              "      <td>946.0</td>\n",
              "      <td>0.040</td>\n",
              "      <td>75.0</td>\n",
              "      <td>64.0</td>\n",
              "      <td>57.0</td>\n",
              "    </tr>\n",
              "    <tr>\n",
              "      <th>4</th>\n",
              "      <td>18</td>\n",
              "      <td>29.5</td>\n",
              "      <td>0.0</td>\n",
              "      <td>4.8</td>\n",
              "      <td>7.0</td>\n",
              "      <td>2000.0</td>\n",
              "      <td>0.057</td>\n",
              "      <td>27.0</td>\n",
              "      <td>11.0</td>\n",
              "      <td>431.0</td>\n",
              "    </tr>\n",
              "  </tbody>\n",
              "</table>\n",
              "</div>"
            ],
            "text/plain": [
              "   hour  hour_bef_temperature  hour_bef_precipitation  hour_bef_windspeed  \\\n",
              "0    20                  16.3                     1.0                 1.5   \n",
              "1    13                  20.1                     0.0                 1.4   \n",
              "2     6                  13.9                     0.0                 0.7   \n",
              "3    23                   8.1                     0.0                 2.7   \n",
              "4    18                  29.5                     0.0                 4.8   \n",
              "\n",
              "   hour_bef_humidity  hour_bef_visibility  hour_bef_ozone  hour_bef_pm10  \\\n",
              "0               89.0                576.0           0.027           76.0   \n",
              "1               48.0                916.0           0.042           73.0   \n",
              "2               79.0               1382.0           0.033           32.0   \n",
              "3               54.0                946.0           0.040           75.0   \n",
              "4                7.0               2000.0           0.057           27.0   \n",
              "\n",
              "   hour_bef_pm2.5  count  \n",
              "0            33.0   49.0  \n",
              "1            40.0  159.0  \n",
              "2            19.0   26.0  \n",
              "3            64.0   57.0  \n",
              "4            11.0  431.0  "
            ]
          },
          "execution_count": 40,
          "metadata": {},
          "output_type": "execute_result"
        }
      ],
      "source": [
        "df = df.drop('id',axis=1)\n",
        "df.head()"
      ]
    },
    {
      "cell_type": "code",
      "execution_count": null,
      "id": "1eacc73c",
      "metadata": {
        "id": "1eacc73c"
      },
      "outputs": [],
      "source": [
        "# 컬럼명이 길어서, 타이핑하기 쉽게 변경\n",
        "df.columns=['hour','temp','precipation','wind','humid','visibility','ozone','pm1','pm2','cnt']"
      ]
    },
    {
      "cell_type": "code",
      "execution_count": null,
      "id": "0e496fb7",
      "metadata": {
        "id": "0e496fb7",
        "outputId": "240afc72-b53b-4194-a5ee-bc8100e991c3"
      },
      "outputs": [
        {
          "data": {
            "text/html": [
              "<div>\n",
              "<style scoped>\n",
              "    .dataframe tbody tr th:only-of-type {\n",
              "        vertical-align: middle;\n",
              "    }\n",
              "\n",
              "    .dataframe tbody tr th {\n",
              "        vertical-align: top;\n",
              "    }\n",
              "\n",
              "    .dataframe thead th {\n",
              "        text-align: right;\n",
              "    }\n",
              "</style>\n",
              "<table border=\"1\" class=\"dataframe\">\n",
              "  <thead>\n",
              "    <tr style=\"text-align: right;\">\n",
              "      <th></th>\n",
              "      <th>hour</th>\n",
              "      <th>temp</th>\n",
              "      <th>precipation</th>\n",
              "      <th>wind</th>\n",
              "      <th>humid</th>\n",
              "      <th>visibility</th>\n",
              "      <th>ozone</th>\n",
              "      <th>pm1</th>\n",
              "      <th>pm2</th>\n",
              "      <th>cnt</th>\n",
              "    </tr>\n",
              "  </thead>\n",
              "  <tbody>\n",
              "    <tr>\n",
              "      <th>0</th>\n",
              "      <td>20</td>\n",
              "      <td>16.3</td>\n",
              "      <td>1.0</td>\n",
              "      <td>1.5</td>\n",
              "      <td>89.0</td>\n",
              "      <td>576.0</td>\n",
              "      <td>0.027</td>\n",
              "      <td>76.0</td>\n",
              "      <td>33.0</td>\n",
              "      <td>49.0</td>\n",
              "    </tr>\n",
              "    <tr>\n",
              "      <th>1</th>\n",
              "      <td>13</td>\n",
              "      <td>20.1</td>\n",
              "      <td>0.0</td>\n",
              "      <td>1.4</td>\n",
              "      <td>48.0</td>\n",
              "      <td>916.0</td>\n",
              "      <td>0.042</td>\n",
              "      <td>73.0</td>\n",
              "      <td>40.0</td>\n",
              "      <td>159.0</td>\n",
              "    </tr>\n",
              "    <tr>\n",
              "      <th>2</th>\n",
              "      <td>6</td>\n",
              "      <td>13.9</td>\n",
              "      <td>0.0</td>\n",
              "      <td>0.7</td>\n",
              "      <td>79.0</td>\n",
              "      <td>1382.0</td>\n",
              "      <td>0.033</td>\n",
              "      <td>32.0</td>\n",
              "      <td>19.0</td>\n",
              "      <td>26.0</td>\n",
              "    </tr>\n",
              "    <tr>\n",
              "      <th>3</th>\n",
              "      <td>23</td>\n",
              "      <td>8.1</td>\n",
              "      <td>0.0</td>\n",
              "      <td>2.7</td>\n",
              "      <td>54.0</td>\n",
              "      <td>946.0</td>\n",
              "      <td>0.040</td>\n",
              "      <td>75.0</td>\n",
              "      <td>64.0</td>\n",
              "      <td>57.0</td>\n",
              "    </tr>\n",
              "    <tr>\n",
              "      <th>4</th>\n",
              "      <td>18</td>\n",
              "      <td>29.5</td>\n",
              "      <td>0.0</td>\n",
              "      <td>4.8</td>\n",
              "      <td>7.0</td>\n",
              "      <td>2000.0</td>\n",
              "      <td>0.057</td>\n",
              "      <td>27.0</td>\n",
              "      <td>11.0</td>\n",
              "      <td>431.0</td>\n",
              "    </tr>\n",
              "  </tbody>\n",
              "</table>\n",
              "</div>"
            ],
            "text/plain": [
              "   hour  temp  precipation  wind  humid  visibility  ozone   pm1   pm2    cnt\n",
              "0    20  16.3          1.0   1.5   89.0       576.0  0.027  76.0  33.0   49.0\n",
              "1    13  20.1          0.0   1.4   48.0       916.0  0.042  73.0  40.0  159.0\n",
              "2     6  13.9          0.0   0.7   79.0      1382.0  0.033  32.0  19.0   26.0\n",
              "3    23   8.1          0.0   2.7   54.0       946.0  0.040  75.0  64.0   57.0\n",
              "4    18  29.5          0.0   4.8    7.0      2000.0  0.057  27.0  11.0  431.0"
            ]
          },
          "execution_count": 42,
          "metadata": {},
          "output_type": "execute_result"
        }
      ],
      "source": [
        "df.head()"
      ]
    },
    {
      "cell_type": "code",
      "execution_count": null,
      "id": "e4b3900d",
      "metadata": {
        "id": "e4b3900d",
        "outputId": "4c4299ff-8794-4fe4-c1ef-0fa2db6bd902"
      },
      "outputs": [
        {
          "data": {
            "text/plain": [
              "array([[<AxesSubplot:title={'center':'hour'}>,\n",
              "        <AxesSubplot:title={'center':'temp'}>,\n",
              "        <AxesSubplot:title={'center':'precipation'}>],\n",
              "       [<AxesSubplot:title={'center':'wind'}>,\n",
              "        <AxesSubplot:title={'center':'humid'}>,\n",
              "        <AxesSubplot:title={'center':'visibility'}>],\n",
              "       [<AxesSubplot:title={'center':'ozone'}>,\n",
              "        <AxesSubplot:title={'center':'pm1'}>,\n",
              "        <AxesSubplot:title={'center':'pm2'}>],\n",
              "       [<AxesSubplot:title={'center':'cnt'}>, <AxesSubplot:>,\n",
              "        <AxesSubplot:>]], dtype=object)"
            ]
          },
          "execution_count": 44,
          "metadata": {},
          "output_type": "execute_result"
        },
        {
          "data": {
            "image/png": "[encoded data removed]",
            "text/plain": [
              "<Figure size 432x288 with 12 Axes>"
            ]
          },
          "metadata": {
            "needs_background": "light"
          },
          "output_type": "display_data"
        }
      ],
      "source": [
        "df.hist()"
      ]
    },
    {
      "cell_type": "code",
      "execution_count": null,
      "id": "87b0099a",
      "metadata": {
        "id": "87b0099a",
        "outputId": "9a87d004-f313-458f-c66e-ee10372a4780"
      },
      "outputs": [
        {
          "name": "stdout",
          "output_type": "stream",
          "text": [
            "<class 'pandas.core.frame.DataFrame'>\n",
            "RangeIndex: 1459 entries, 0 to 1458\n",
            "Data columns (total 10 columns):\n",
            " #   Column       Non-Null Count  Dtype  \n",
            "---  ------       --------------  -----  \n",
            " 0   hour         1459 non-null   int64  \n",
            " 1   temp         1457 non-null   float64\n",
            " 2   precipation  1457 non-null   float64\n",
            " 3   wind         1450 non-null   float64\n",
            " 4   humid        1457 non-null   float64\n",
            " 5   visibility   1457 non-null   float64\n",
            " 6   ozone        1383 non-null   float64\n",
            " 7   pm1          1369 non-null   float64\n",
            " 8   pm2          1342 non-null   float64\n",
            " 9   cnt          1459 non-null   float64\n",
            "dtypes: float64(9), int64(1)\n",
            "memory usage: 114.1 KB\n"
          ]
        }
      ],
      "source": [
        "df.info()"
      ]
    },
    {
      "cell_type": "code",
      "execution_count": null,
      "id": "8c726488",
      "metadata": {
        "id": "8c726488",
        "outputId": "cfdfcd1b-c517-47ab-af0a-2f0b4579f5ff"
      },
      "outputs": [
        {
          "data": {
            "text/html": [
              "<div>\n",
              "<style scoped>\n",
              "    .dataframe tbody tr th:only-of-type {\n",
              "        vertical-align: middle;\n",
              "    }\n",
              "\n",
              "    .dataframe tbody tr th {\n",
              "        vertical-align: top;\n",
              "    }\n",
              "\n",
              "    .dataframe thead th {\n",
              "        text-align: right;\n",
              "    }\n",
              "</style>\n",
              "<table border=\"1\" class=\"dataframe\">\n",
              "  <thead>\n",
              "    <tr style=\"text-align: right;\">\n",
              "      <th></th>\n",
              "      <th>hour</th>\n",
              "      <th>temp</th>\n",
              "      <th>precipation</th>\n",
              "      <th>wind</th>\n",
              "      <th>humid</th>\n",
              "      <th>visibility</th>\n",
              "      <th>ozone</th>\n",
              "      <th>pm1</th>\n",
              "      <th>pm2</th>\n",
              "      <th>cnt</th>\n",
              "    </tr>\n",
              "  </thead>\n",
              "  <tbody>\n",
              "    <tr>\n",
              "      <th>count</th>\n",
              "      <td>1459.000000</td>\n",
              "      <td>1457.000000</td>\n",
              "      <td>1457.000000</td>\n",
              "      <td>1450.000000</td>\n",
              "      <td>1457.000000</td>\n",
              "      <td>1457.000000</td>\n",
              "      <td>1383.000000</td>\n",
              "      <td>1369.000000</td>\n",
              "      <td>1342.000000</td>\n",
              "      <td>1459.000000</td>\n",
              "    </tr>\n",
              "    <tr>\n",
              "      <th>mean</th>\n",
              "      <td>11.493489</td>\n",
              "      <td>16.717433</td>\n",
              "      <td>0.031572</td>\n",
              "      <td>2.479034</td>\n",
              "      <td>52.231297</td>\n",
              "      <td>1405.216884</td>\n",
              "      <td>0.039149</td>\n",
              "      <td>57.168736</td>\n",
              "      <td>30.327124</td>\n",
              "      <td>108.563400</td>\n",
              "    </tr>\n",
              "    <tr>\n",
              "      <th>std</th>\n",
              "      <td>6.922790</td>\n",
              "      <td>5.239150</td>\n",
              "      <td>0.174917</td>\n",
              "      <td>1.378265</td>\n",
              "      <td>20.370387</td>\n",
              "      <td>583.131708</td>\n",
              "      <td>0.019509</td>\n",
              "      <td>31.771019</td>\n",
              "      <td>14.713252</td>\n",
              "      <td>82.631733</td>\n",
              "    </tr>\n",
              "    <tr>\n",
              "      <th>min</th>\n",
              "      <td>0.000000</td>\n",
              "      <td>3.100000</td>\n",
              "      <td>0.000000</td>\n",
              "      <td>0.000000</td>\n",
              "      <td>7.000000</td>\n",
              "      <td>78.000000</td>\n",
              "      <td>0.003000</td>\n",
              "      <td>9.000000</td>\n",
              "      <td>8.000000</td>\n",
              "      <td>1.000000</td>\n",
              "    </tr>\n",
              "    <tr>\n",
              "      <th>25%</th>\n",
              "      <td>5.500000</td>\n",
              "      <td>12.800000</td>\n",
              "      <td>0.000000</td>\n",
              "      <td>1.400000</td>\n",
              "      <td>36.000000</td>\n",
              "      <td>879.000000</td>\n",
              "      <td>0.025500</td>\n",
              "      <td>36.000000</td>\n",
              "      <td>20.000000</td>\n",
              "      <td>37.000000</td>\n",
              "    </tr>\n",
              "    <tr>\n",
              "      <th>50%</th>\n",
              "      <td>11.000000</td>\n",
              "      <td>16.600000</td>\n",
              "      <td>0.000000</td>\n",
              "      <td>2.300000</td>\n",
              "      <td>51.000000</td>\n",
              "      <td>1577.000000</td>\n",
              "      <td>0.039000</td>\n",
              "      <td>51.000000</td>\n",
              "      <td>26.000000</td>\n",
              "      <td>96.000000</td>\n",
              "    </tr>\n",
              "    <tr>\n",
              "      <th>75%</th>\n",
              "      <td>17.500000</td>\n",
              "      <td>20.100000</td>\n",
              "      <td>0.000000</td>\n",
              "      <td>3.400000</td>\n",
              "      <td>69.000000</td>\n",
              "      <td>1994.000000</td>\n",
              "      <td>0.052000</td>\n",
              "      <td>69.000000</td>\n",
              "      <td>37.000000</td>\n",
              "      <td>150.000000</td>\n",
              "    </tr>\n",
              "    <tr>\n",
              "      <th>max</th>\n",
              "      <td>23.000000</td>\n",
              "      <td>30.000000</td>\n",
              "      <td>1.000000</td>\n",
              "      <td>8.000000</td>\n",
              "      <td>99.000000</td>\n",
              "      <td>2000.000000</td>\n",
              "      <td>0.125000</td>\n",
              "      <td>269.000000</td>\n",
              "      <td>90.000000</td>\n",
              "      <td>431.000000</td>\n",
              "    </tr>\n",
              "  </tbody>\n",
              "</table>\n",
              "</div>"
            ],
            "text/plain": [
              "              hour         temp  precipation         wind        humid  \\\n",
              "count  1459.000000  1457.000000  1457.000000  1450.000000  1457.000000   \n",
              "mean     11.493489    16.717433     0.031572     2.479034    52.231297   \n",
              "std       6.922790     5.239150     0.174917     1.378265    20.370387   \n",
              "min       0.000000     3.100000     0.000000     0.000000     7.000000   \n",
              "25%       5.500000    12.800000     0.000000     1.400000    36.000000   \n",
              "50%      11.000000    16.600000     0.000000     2.300000    51.000000   \n",
              "75%      17.500000    20.100000     0.000000     3.400000    69.000000   \n",
              "max      23.000000    30.000000     1.000000     8.000000    99.000000   \n",
              "\n",
              "        visibility        ozone          pm1          pm2          cnt  \n",
              "count  1457.000000  1383.000000  1369.000000  1342.000000  1459.000000  \n",
              "mean   1405.216884     0.039149    57.168736    30.327124   108.563400  \n",
              "std     583.131708     0.019509    31.771019    14.713252    82.631733  \n",
              "min      78.000000     0.003000     9.000000     8.000000     1.000000  \n",
              "25%     879.000000     0.025500    36.000000    20.000000    37.000000  \n",
              "50%    1577.000000     0.039000    51.000000    26.000000    96.000000  \n",
              "75%    1994.000000     0.052000    69.000000    37.000000   150.000000  \n",
              "max    2000.000000     0.125000   269.000000    90.000000   431.000000  "
            ]
          },
          "execution_count": 46,
          "metadata": {},
          "output_type": "execute_result"
        }
      ],
      "source": [
        "df.describe()"
      ]
    },
    {
      "cell_type": "markdown",
      "id": "53910536",
      "metadata": {
        "id": "53910536"
      },
      "source": [
        "# 1번 모델"
      ]
    },
    {
      "cell_type": "markdown",
      "id": "389386c1",
      "metadata": {
        "id": "389386c1"
      },
      "source": [
        "## 데이터 전처리"
      ]
    },
    {
      "cell_type": "markdown",
      "id": "afeeb5e5",
      "metadata": {
        "id": "afeeb5e5"
      },
      "source": [
        "hour, visibility는 정규분포형태 X -> minmaxscaling <br>\n",
        "temp, wind, humid, ozone, pm1, pm2 -> standardscaling <br>\n",
        "하지만, temp, wind는 합칠 수도 있을 것 같다. (체감온도)\n",
        "- 13.12+0.6215×T-11.37xV^(0.16)+0.3965xV^(0.16)×T\n",
        "\n",
        "나중에 모델 성능이 높이는 용도로 써보자"
      ]
    },
    {
      "cell_type": "code",
      "execution_count": null,
      "id": "ef5a30f1",
      "metadata": {
        "id": "ef5a30f1",
        "outputId": "0fbf0e82-fbc7-4ed5-db46-28ec0383443c"
      },
      "outputs": [
        {
          "data": {
            "text/html": [
              "<div>\n",
              "<style scoped>\n",
              "    .dataframe tbody tr th:only-of-type {\n",
              "        vertical-align: middle;\n",
              "    }\n",
              "\n",
              "    .dataframe tbody tr th {\n",
              "        vertical-align: top;\n",
              "    }\n",
              "\n",
              "    .dataframe thead th {\n",
              "        text-align: right;\n",
              "    }\n",
              "</style>\n",
              "<table border=\"1\" class=\"dataframe\">\n",
              "  <thead>\n",
              "    <tr style=\"text-align: right;\">\n",
              "      <th></th>\n",
              "      <th>hour</th>\n",
              "      <th>temp</th>\n",
              "      <th>precipation</th>\n",
              "      <th>wind</th>\n",
              "      <th>humid</th>\n",
              "      <th>visibility</th>\n",
              "      <th>ozone</th>\n",
              "      <th>pm1</th>\n",
              "      <th>pm2</th>\n",
              "      <th>cnt</th>\n",
              "    </tr>\n",
              "  </thead>\n",
              "  <tbody>\n",
              "    <tr>\n",
              "      <th>0</th>\n",
              "      <td>20</td>\n",
              "      <td>16.3</td>\n",
              "      <td>1.0</td>\n",
              "      <td>1.5</td>\n",
              "      <td>89.0</td>\n",
              "      <td>576.0</td>\n",
              "      <td>0.027</td>\n",
              "      <td>76.0</td>\n",
              "      <td>33.0</td>\n",
              "      <td>49.0</td>\n",
              "    </tr>\n",
              "  </tbody>\n",
              "</table>\n",
              "</div>"
            ],
            "text/plain": [
              "   hour  temp  precipation  wind  humid  visibility  ozone   pm1   pm2   cnt\n",
              "0    20  16.3          1.0   1.5   89.0       576.0  0.027  76.0  33.0  49.0"
            ]
          },
          "execution_count": 207,
          "metadata": {},
          "output_type": "execute_result"
        }
      ],
      "source": [
        "df.head(1)"
      ]
    },
    {
      "cell_type": "code",
      "execution_count": null,
      "id": "9bcaf121",
      "metadata": {
        "id": "9bcaf121"
      },
      "outputs": [],
      "source": [
        "df1 = df.copy()"
      ]
    },
    {
      "cell_type": "code",
      "execution_count": null,
      "id": "07bc7a8e",
      "metadata": {
        "scrolled": false,
        "id": "07bc7a8e",
        "outputId": "ce6c6e16-0199-47c4-d69d-dca70d50acf9"
      },
      "outputs": [
        {
          "name": "stdout",
          "output_type": "stream",
          "text": [
            "<class 'pandas.core.frame.DataFrame'>\n",
            "RangeIndex: 1459 entries, 0 to 1458\n",
            "Data columns (total 10 columns):\n",
            " #   Column       Non-Null Count  Dtype  \n",
            "---  ------       --------------  -----  \n",
            " 0   hour         1459 non-null   int64  \n",
            " 1   temp         1457 non-null   float64\n",
            " 2   precipation  1457 non-null   float64\n",
            " 3   wind         1450 non-null   float64\n",
            " 4   humid        1457 non-null   float64\n",
            " 5   visibility   1457 non-null   float64\n",
            " 6   ozone        1383 non-null   float64\n",
            " 7   pm1          1369 non-null   float64\n",
            " 8   pm2          1342 non-null   float64\n",
            " 9   cnt          1459 non-null   float64\n",
            "dtypes: float64(9), int64(1)\n",
            "memory usage: 114.1 KB\n"
          ]
        }
      ],
      "source": [
        "df1.info()"
      ]
    },
    {
      "cell_type": "code",
      "execution_count": null,
      "id": "3f42aae1",
      "metadata": {
        "scrolled": true,
        "id": "3f42aae1"
      },
      "outputs": [],
      "source": [
        "df1['temp'] = df1['temp'].fillna(df1['temp'].mean())\n",
        "df1['precipation'] = df1['precipation'].fillna(0)\n",
        "df1['wind'] = df1['wind'].fillna(df1['wind'].mean())\n",
        "df1['humid'] = df1['humid'].fillna(df1['humid'].mean())\n",
        "df1['visibility'] = df1['visibility'].fillna(df1['visibility'].mean())\n",
        "df1['ozone'] = df1['ozone'].fillna(df1['ozone'].mean())\n",
        "df1['pm1'] = df1['pm1'].fillna(df1['pm1'].mean())\n",
        "df1['pm2'] = df1['pm2'].fillna(df1['pm2'].mean())\n",
        "# df1.dropna(inplace=True)"
      ]
    },
    {
      "cell_type": "code",
      "execution_count": null,
      "id": "2d1f0523",
      "metadata": {
        "id": "2d1f0523",
        "outputId": "43fc8d88-b04a-4ba8-b1ab-6effd7c27905"
      },
      "outputs": [
        {
          "name": "stdout",
          "output_type": "stream",
          "text": [
            "<class 'pandas.core.frame.DataFrame'>\n",
            "RangeIndex: 1459 entries, 0 to 1458\n",
            "Data columns (total 10 columns):\n",
            " #   Column       Non-Null Count  Dtype  \n",
            "---  ------       --------------  -----  \n",
            " 0   hour         1459 non-null   int64  \n",
            " 1   temp         1459 non-null   float64\n",
            " 2   precipation  1459 non-null   float64\n",
            " 3   wind         1459 non-null   float64\n",
            " 4   humid        1459 non-null   float64\n",
            " 5   visibility   1459 non-null   float64\n",
            " 6   ozone        1459 non-null   float64\n",
            " 7   pm1          1459 non-null   float64\n",
            " 8   pm2          1459 non-null   float64\n",
            " 9   cnt          1459 non-null   float64\n",
            "dtypes: float64(9), int64(1)\n",
            "memory usage: 114.1 KB\n"
          ]
        }
      ],
      "source": [
        "df1.info()"
      ]
    },
    {
      "cell_type": "code",
      "execution_count": null,
      "id": "714ba5a6",
      "metadata": {
        "id": "714ba5a6"
      },
      "outputs": [],
      "source": [
        "from sklearn.preprocessing import StandardScaler\n",
        "from sklearn.preprocessing import MinMaxScaler"
      ]
    },
    {
      "cell_type": "code",
      "execution_count": null,
      "id": "34a53a80",
      "metadata": {
        "id": "34a53a80"
      },
      "outputs": [],
      "source": [
        "# hour_scaler = MinMaxScaler()\n",
        "vis_scaler = MinMaxScaler()\n",
        "temp_scaler = StandardScaler()\n",
        "humid_scaler = StandardScaler()\n",
        "ozone_scaler = StandardScaler()\n",
        "pm1_scaler = StandardScaler()\n",
        "pm2_scaler = StandardScaler()"
      ]
    },
    {
      "cell_type": "code",
      "execution_count": null,
      "id": "7b4f8040",
      "metadata": {
        "id": "7b4f8040",
        "outputId": "ed6d2e83-777c-4e3e-b45e-5940fc81974e"
      },
      "outputs": [
        {
          "data": {
            "text/plain": [
              "StandardScaler()"
            ]
          },
          "execution_count": 231,
          "metadata": {},
          "output_type": "execute_result"
        }
      ],
      "source": [
        "# hour_scaler.fit(df1['hour'].to_frame())\n",
        "vis_scaler.fit(df1['visibility'].to_frame())\n",
        "temp_scaler.fit(df1['temp'].to_frame())\n",
        "humid_scaler.fit(df1['humid'].to_frame())\n",
        "ozone_scaler.fit(df1['ozone'].to_frame())\n",
        "pm1_scaler.fit(df1['pm1'].to_frame())\n",
        "pm2_scaler.fit(df1['pm2'].to_frame())"
      ]
    },
    {
      "cell_type": "code",
      "execution_count": null,
      "id": "c7e30215",
      "metadata": {
        "id": "c7e30215"
      },
      "outputs": [],
      "source": [
        "# df1['hour'] = hour_scaler.transform(df1['hour'].to_frame())\n",
        "df1['visibility'] = vis_scaler.transform(df1['visibility'].to_frame())\n",
        "df1['temp'] = temp_scaler.transform(df1['temp'].to_frame())\n",
        "df1['humid'] = humid_scaler.transform(df1['humid'].to_frame())\n",
        "df1['ozone'] = ozone_scaler.transform(df1['ozone'].to_frame())\n",
        "df1['pm1'] = pm1_scaler.transform(df1['pm1'].to_frame())\n",
        "df1['pm2'] = pm2_scaler.transform(df1['pm2'].to_frame())"
      ]
    },
    {
      "cell_type": "code",
      "execution_count": null,
      "id": "ab56b861",
      "metadata": {
        "scrolled": true,
        "id": "ab56b861",
        "outputId": "a47a18da-b39c-4031-c07c-5a49a3b82e72"
      },
      "outputs": [
        {
          "data": {
            "text/plain": [
              "array([[<AxesSubplot:title={'center':'hour'}>,\n",
              "        <AxesSubplot:title={'center':'temp'}>,\n",
              "        <AxesSubplot:title={'center':'precipation'}>],\n",
              "       [<AxesSubplot:title={'center':'wind'}>,\n",
              "        <AxesSubplot:title={'center':'humid'}>,\n",
              "        <AxesSubplot:title={'center':'visibility'}>],\n",
              "       [<AxesSubplot:title={'center':'ozone'}>,\n",
              "        <AxesSubplot:title={'center':'pm1'}>,\n",
              "        <AxesSubplot:title={'center':'pm2'}>],\n",
              "       [<AxesSubplot:title={'center':'cnt'}>, <AxesSubplot:>,\n",
              "        <AxesSubplot:>]], dtype=object)"
            ]
          },
          "execution_count": 233,
          "metadata": {},
          "output_type": "execute_result"
        },
        {
          "data": {
            "image/png": "[encoded data removed]",
            "text/plain": [
              "<Figure size 432x288 with 12 Axes>"
            ]
          },
          "metadata": {
            "needs_background": "light"
          },
          "output_type": "display_data"
        }
      ],
      "source": [
        "df1.hist()"
      ]
    },
    {
      "cell_type": "code",
      "execution_count": null,
      "id": "31368cf5",
      "metadata": {
        "id": "31368cf5",
        "outputId": "19b9b361-4943-4056-ea89-5f30fa7d5324"
      },
      "outputs": [
        {
          "data": {
            "text/html": [
              "<div>\n",
              "<style scoped>\n",
              "    .dataframe tbody tr th:only-of-type {\n",
              "        vertical-align: middle;\n",
              "    }\n",
              "\n",
              "    .dataframe tbody tr th {\n",
              "        vertical-align: top;\n",
              "    }\n",
              "\n",
              "    .dataframe thead th {\n",
              "        text-align: right;\n",
              "    }\n",
              "</style>\n",
              "<table border=\"1\" class=\"dataframe\">\n",
              "  <thead>\n",
              "    <tr style=\"text-align: right;\">\n",
              "      <th></th>\n",
              "      <th>hour</th>\n",
              "      <th>temp</th>\n",
              "      <th>precipation</th>\n",
              "      <th>wind</th>\n",
              "      <th>humid</th>\n",
              "      <th>visibility</th>\n",
              "      <th>ozone</th>\n",
              "      <th>pm1</th>\n",
              "      <th>pm2</th>\n",
              "      <th>cnt</th>\n",
              "    </tr>\n",
              "  </thead>\n",
              "  <tbody>\n",
              "    <tr>\n",
              "      <th>count</th>\n",
              "      <td>1459.000000</td>\n",
              "      <td>1.459000e+03</td>\n",
              "      <td>1459.000000</td>\n",
              "      <td>1459.000000</td>\n",
              "      <td>1.459000e+03</td>\n",
              "      <td>1459.000000</td>\n",
              "      <td>1.459000e+03</td>\n",
              "      <td>1.459000e+03</td>\n",
              "      <td>1.459000e+03</td>\n",
              "      <td>1459.000000</td>\n",
              "    </tr>\n",
              "    <tr>\n",
              "      <th>mean</th>\n",
              "      <td>11.493489</td>\n",
              "      <td>2.541566e-17</td>\n",
              "      <td>0.031528</td>\n",
              "      <td>2.479034</td>\n",
              "      <td>4.946162e-18</td>\n",
              "      <td>0.690539</td>\n",
              "      <td>-1.099189e-16</td>\n",
              "      <td>-4.679830e-17</td>\n",
              "      <td>-2.296541e-16</td>\n",
              "      <td>108.563400</td>\n",
              "    </tr>\n",
              "    <tr>\n",
              "      <th>std</th>\n",
              "      <td>6.922790</td>\n",
              "      <td>1.000343e+00</td>\n",
              "      <td>0.174801</td>\n",
              "      <td>1.374005</td>\n",
              "      <td>1.000343e+00</td>\n",
              "      <td>0.303190</td>\n",
              "      <td>1.000343e+00</td>\n",
              "      <td>1.000343e+00</td>\n",
              "      <td>1.000343e+00</td>\n",
              "      <td>82.631733</td>\n",
              "    </tr>\n",
              "    <tr>\n",
              "      <th>min</th>\n",
              "      <td>0.000000</td>\n",
              "      <td>-2.601845e+00</td>\n",
              "      <td>0.000000</td>\n",
              "      <td>0.000000</td>\n",
              "      <td>-2.222730e+00</td>\n",
              "      <td>0.000000</td>\n",
              "      <td>-1.903809e+00</td>\n",
              "      <td>-1.565737e+00</td>\n",
              "      <td>-1.582841e+00</td>\n",
              "      <td>1.000000</td>\n",
              "    </tr>\n",
              "    <tr>\n",
              "      <th>25%</th>\n",
              "      <td>5.500000</td>\n",
              "      <td>-7.484929e-01</td>\n",
              "      <td>0.000000</td>\n",
              "      <td>1.400000</td>\n",
              "      <td>-7.976290e-01</td>\n",
              "      <td>0.417274</td>\n",
              "      <td>-6.924984e-01</td>\n",
              "      <td>-6.555897e-01</td>\n",
              "      <td>-6.612296e-01</td>\n",
              "      <td>37.000000</td>\n",
              "    </tr>\n",
              "    <tr>\n",
              "      <th>50%</th>\n",
              "      <td>11.000000</td>\n",
              "      <td>-2.243761e-02</td>\n",
              "      <td>0.000000</td>\n",
              "      <td>2.400000</td>\n",
              "      <td>-6.050769e-02</td>\n",
              "      <td>0.779396</td>\n",
              "      <td>-4.019857e-15</td>\n",
              "      <td>-1.355058e-01</td>\n",
              "      <td>-1.649772e-01</td>\n",
              "      <td>96.000000</td>\n",
              "    </tr>\n",
              "    <tr>\n",
              "      <th>75%</th>\n",
              "      <td>17.500000</td>\n",
              "      <td>6.367442e-01</td>\n",
              "      <td>0.000000</td>\n",
              "      <td>3.400000</td>\n",
              "      <td>7.994671e-01</td>\n",
              "      <td>0.996878</td>\n",
              "      <td>6.241434e-01</td>\n",
              "      <td>3.520729e-01</td>\n",
              "      <td>4.021684e-01</td>\n",
              "      <td>150.000000</td>\n",
              "    </tr>\n",
              "    <tr>\n",
              "      <th>max</th>\n",
              "      <td>23.000000</td>\n",
              "      <td>2.537863e+00</td>\n",
              "      <td>1.000000</td>\n",
              "      <td>8.000000</td>\n",
              "      <td>2.298280e+00</td>\n",
              "      <td>1.000000</td>\n",
              "      <td>4.521403e+00</td>\n",
              "      <td>6.885627e+00</td>\n",
              "      <td>4.230401e+00</td>\n",
              "      <td>431.000000</td>\n",
              "    </tr>\n",
              "  </tbody>\n",
              "</table>\n",
              "</div>"
            ],
            "text/plain": [
              "              hour          temp  precipation         wind         humid  \\\n",
              "count  1459.000000  1.459000e+03  1459.000000  1459.000000  1.459000e+03   \n",
              "mean     11.493489  2.541566e-17     0.031528     2.479034  4.946162e-18   \n",
              "std       6.922790  1.000343e+00     0.174801     1.374005  1.000343e+00   \n",
              "min       0.000000 -2.601845e+00     0.000000     0.000000 -2.222730e+00   \n",
              "25%       5.500000 -7.484929e-01     0.000000     1.400000 -7.976290e-01   \n",
              "50%      11.000000 -2.243761e-02     0.000000     2.400000 -6.050769e-02   \n",
              "75%      17.500000  6.367442e-01     0.000000     3.400000  7.994671e-01   \n",
              "max      23.000000  2.537863e+00     1.000000     8.000000  2.298280e+00   \n",
              "\n",
              "        visibility         ozone           pm1           pm2          cnt  \n",
              "count  1459.000000  1.459000e+03  1.459000e+03  1.459000e+03  1459.000000  \n",
              "mean      0.690539 -1.099189e-16 -4.679830e-17 -2.296541e-16   108.563400  \n",
              "std       0.303190  1.000343e+00  1.000343e+00  1.000343e+00    82.631733  \n",
              "min       0.000000 -1.903809e+00 -1.565737e+00 -1.582841e+00     1.000000  \n",
              "25%       0.417274 -6.924984e-01 -6.555897e-01 -6.612296e-01    37.000000  \n",
              "50%       0.779396 -4.019857e-15 -1.355058e-01 -1.649772e-01    96.000000  \n",
              "75%       0.996878  6.241434e-01  3.520729e-01  4.021684e-01   150.000000  \n",
              "max       1.000000  4.521403e+00  6.885627e+00  4.230401e+00   431.000000  "
            ]
          },
          "execution_count": 234,
          "metadata": {},
          "output_type": "execute_result"
        }
      ],
      "source": [
        "df1.describe()"
      ]
    },
    {
      "cell_type": "markdown",
      "id": "df0cb084",
      "metadata": {
        "id": "df0cb084"
      },
      "source": [
        "## 모델 만들기"
      ]
    },
    {
      "cell_type": "code",
      "execution_count": null,
      "id": "9859311e",
      "metadata": {
        "id": "9859311e"
      },
      "outputs": [],
      "source": [
        "from sklearn.model_selection import train_test_split"
      ]
    },
    {
      "cell_type": "code",
      "execution_count": null,
      "id": "2bbfa4de",
      "metadata": {
        "id": "2bbfa4de"
      },
      "outputs": [],
      "source": [
        "from sklearn.linear_model import LinearRegression\n",
        "from sklearn.metrics import mean_squared_error"
      ]
    },
    {
      "cell_type": "code",
      "execution_count": null,
      "id": "eac6da72",
      "metadata": {
        "id": "eac6da72"
      },
      "outputs": [],
      "source": [
        "X_train, X_test, y_train, y_test = train_test_split(df1.iloc[:,:-1],df1.iloc[:,-1],\n",
        "                                                   test_size=0.3, random_state=0)"
      ]
    },
    {
      "cell_type": "code",
      "execution_count": null,
      "id": "4b14f9b3",
      "metadata": {
        "id": "4b14f9b3"
      },
      "outputs": [],
      "source": [
        "lr_reg = LinearRegression()\n",
        "\n",
        "lr_reg.fit(X_train, y_train)\n",
        "\n",
        "pred = lr_reg.predict(X_test)"
      ]
    },
    {
      "cell_type": "code",
      "execution_count": null,
      "id": "9cea22b0",
      "metadata": {
        "id": "9cea22b0",
        "outputId": "777c8d01-62ca-4462-a713-3deb39239f60"
      },
      "outputs": [
        {
          "data": {
            "text/plain": [
              "50.530585370109364"
            ]
          },
          "execution_count": 239,
          "metadata": {},
          "output_type": "execute_result"
        }
      ],
      "source": [
        "mean_squared_error(y_test,pred,squared=False)"
      ]
    },
    {
      "cell_type": "code",
      "execution_count": null,
      "id": "3f437524",
      "metadata": {
        "id": "3f437524"
      },
      "outputs": [],
      "source": [
        "from sklearn.ensemble import RandomForestRegressor, GradientBoostingRegressor\n",
        "from xgboost import XGBRegressor"
      ]
    },
    {
      "cell_type": "code",
      "execution_count": null,
      "id": "0a0b9b96",
      "metadata": {
        "id": "0a0b9b96"
      },
      "outputs": [],
      "source": [
        "rf_reg = RandomForestRegressor(n_estimators=500)\n",
        "gbm_reg = GradientBoostingRegressor(n_estimators=500)\n",
        "xgb_reg = XGBRegressor(n_estimators=500)"
      ]
    },
    {
      "cell_type": "code",
      "execution_count": null,
      "id": "f95e043f",
      "metadata": {
        "id": "f95e043f",
        "outputId": "10a43063-d5fd-4f93-e89b-cc4e47262d61"
      },
      "outputs": [
        {
          "data": {
            "text/plain": [
              "35.91346285932262"
            ]
          },
          "execution_count": 242,
          "metadata": {},
          "output_type": "execute_result"
        }
      ],
      "source": [
        "rf_reg.fit(X_train, y_train)\n",
        "pred = rf_reg.predict(X_test)\n",
        "mean_squared_error(y_test,pred,squared=False)"
      ]
    },
    {
      "cell_type": "code",
      "execution_count": null,
      "id": "c812ce3d",
      "metadata": {
        "id": "c812ce3d",
        "outputId": "c4381405-355b-4041-9270-667af3d90bea"
      },
      "outputs": [
        {
          "data": {
            "text/plain": [
              "37.947454129441255"
            ]
          },
          "execution_count": 243,
          "metadata": {},
          "output_type": "execute_result"
        }
      ],
      "source": [
        "gbm_reg.fit(X_train, y_train)\n",
        "pred = gbm_reg.predict(X_test)\n",
        "mean_squared_error(y_test,pred,squared=False)"
      ]
    },
    {
      "cell_type": "code",
      "execution_count": null,
      "id": "9868f58f",
      "metadata": {
        "id": "9868f58f",
        "outputId": "2eac9878-3228-4eb6-d45a-46603ae88751"
      },
      "outputs": [
        {
          "data": {
            "text/plain": [
              "36.833178663074115"
            ]
          },
          "execution_count": 244,
          "metadata": {},
          "output_type": "execute_result"
        }
      ],
      "source": [
        "xgb_reg.fit(X_train, y_train)\n",
        "pred = xgb_reg.predict(X_test)\n",
        "mean_squared_error(y_test,pred,squared=False)"
      ]
    },
    {
      "cell_type": "markdown",
      "id": "3cbd4602",
      "metadata": {
        "id": "3cbd4602"
      },
      "source": [
        "# 2번 모델"
      ]
    },
    {
      "cell_type": "markdown",
      "id": "b7e374f3",
      "metadata": {
        "id": "b7e374f3"
      },
      "source": [
        "hour, visibility는 정규분포형태 X -> minmaxscaling <br>\n",
        "temp, wind, humid, ozone, pm1, pm2 -> standardscaling <br>\n",
        "하지만, temp, wind는 합칠 수도 있을 것 같다. (체감온도)\n",
        "- 13.12+0.6215×T-11.37xV^(0.16)+0.3965xV^(0.16)×T\n",
        "\n",
        "나중에 모델 성능이 높이는 용도로 써보자"
      ]
    },
    {
      "cell_type": "code",
      "execution_count": null,
      "id": "f1873d16",
      "metadata": {
        "scrolled": true,
        "id": "f1873d16",
        "outputId": "8b6c37f5-032b-44eb-903d-4cf0c1fc0d60"
      },
      "outputs": [
        {
          "data": {
            "text/html": [
              "<div>\n",
              "<style scoped>\n",
              "    .dataframe tbody tr th:only-of-type {\n",
              "        vertical-align: middle;\n",
              "    }\n",
              "\n",
              "    .dataframe tbody tr th {\n",
              "        vertical-align: top;\n",
              "    }\n",
              "\n",
              "    .dataframe thead th {\n",
              "        text-align: right;\n",
              "    }\n",
              "</style>\n",
              "<table border=\"1\" class=\"dataframe\">\n",
              "  <thead>\n",
              "    <tr style=\"text-align: right;\">\n",
              "      <th></th>\n",
              "      <th>hour</th>\n",
              "      <th>temp</th>\n",
              "      <th>precipation</th>\n",
              "      <th>wind</th>\n",
              "      <th>humid</th>\n",
              "      <th>visibility</th>\n",
              "      <th>ozone</th>\n",
              "      <th>pm1</th>\n",
              "      <th>pm2</th>\n",
              "      <th>cnt</th>\n",
              "    </tr>\n",
              "  </thead>\n",
              "  <tbody>\n",
              "    <tr>\n",
              "      <th>0</th>\n",
              "      <td>20</td>\n",
              "      <td>16.3</td>\n",
              "      <td>1.0</td>\n",
              "      <td>1.5</td>\n",
              "      <td>89.0</td>\n",
              "      <td>576.0</td>\n",
              "      <td>0.027</td>\n",
              "      <td>76.0</td>\n",
              "      <td>33.0</td>\n",
              "      <td>49.0</td>\n",
              "    </tr>\n",
              "  </tbody>\n",
              "</table>\n",
              "</div>"
            ],
            "text/plain": [
              "   hour  temp  precipation  wind  humid  visibility  ozone   pm1   pm2   cnt\n",
              "0    20  16.3          1.0   1.5   89.0       576.0  0.027  76.0  33.0  49.0"
            ]
          },
          "execution_count": 124,
          "metadata": {},
          "output_type": "execute_result"
        }
      ],
      "source": [
        "df.head(1)"
      ]
    },
    {
      "cell_type": "code",
      "execution_count": null,
      "id": "0f64be7a",
      "metadata": {
        "id": "0f64be7a"
      },
      "outputs": [],
      "source": [
        "df2 = df.copy()"
      ]
    },
    {
      "cell_type": "code",
      "execution_count": null,
      "id": "e7b98c9f",
      "metadata": {
        "scrolled": false,
        "id": "e7b98c9f",
        "outputId": "9b02bfe3-37f1-4856-d4ed-6831aca1dd60"
      },
      "outputs": [
        {
          "name": "stdout",
          "output_type": "stream",
          "text": [
            "<class 'pandas.core.frame.DataFrame'>\n",
            "RangeIndex: 1459 entries, 0 to 1458\n",
            "Data columns (total 10 columns):\n",
            " #   Column       Non-Null Count  Dtype  \n",
            "---  ------       --------------  -----  \n",
            " 0   hour         1459 non-null   int64  \n",
            " 1   temp         1457 non-null   float64\n",
            " 2   precipation  1457 non-null   float64\n",
            " 3   wind         1450 non-null   float64\n",
            " 4   humid        1457 non-null   float64\n",
            " 5   visibility   1457 non-null   float64\n",
            " 6   ozone        1383 non-null   float64\n",
            " 7   pm1          1369 non-null   float64\n",
            " 8   pm2          1342 non-null   float64\n",
            " 9   cnt          1459 non-null   float64\n",
            "dtypes: float64(9), int64(1)\n",
            "memory usage: 114.1 KB\n"
          ]
        }
      ],
      "source": [
        "df2.info()"
      ]
    },
    {
      "cell_type": "code",
      "execution_count": null,
      "id": "4de4c0e2",
      "metadata": {
        "id": "4de4c0e2"
      },
      "outputs": [],
      "source": [
        "df2['ctemp'] = 13.12+0.6215*df2['temp']-11.37*df2['wind']**(0.16)+0.3965*df2['wind']**(0.16)*df2['temp']"
      ]
    },
    {
      "cell_type": "code",
      "execution_count": null,
      "id": "0c947c62",
      "metadata": {
        "scrolled": true,
        "id": "0c947c62"
      },
      "outputs": [],
      "source": [
        "df2['temp'] = df2['temp'].fillna(df2['temp'].mean())\n",
        "df2['ctemp'] = df2['ctemp'].fillna(df2['ctemp'].mean())\n",
        "df2['precipation'] = df2['precipation'].fillna(0)\n",
        "df2['wind'] = df2['wind'].fillna(df2['wind'].mean())\n",
        "df2['humid'] = df2['humid'].fillna(df2['humid'].mean())\n",
        "df2['visibility'] = df2['visibility'].fillna(df2['visibility'].mean())\n",
        "df2['ozone'] = df2['ozone'].fillna(df2['ozone'].mean())\n",
        "df2['pm1'] = df2['pm1'].fillna(df2['pm1'].mean())\n",
        "df2['pm2'] = df2['pm2'].fillna(df2['pm2'].mean())\n",
        "# df1.dropna(inplace=True)"
      ]
    },
    {
      "cell_type": "code",
      "execution_count": null,
      "id": "fe0643f2",
      "metadata": {
        "id": "fe0643f2",
        "outputId": "c6d561c5-de9f-4df1-ae68-979b7d565760"
      },
      "outputs": [
        {
          "name": "stdout",
          "output_type": "stream",
          "text": [
            "<class 'pandas.core.frame.DataFrame'>\n",
            "RangeIndex: 1459 entries, 0 to 1458\n",
            "Data columns (total 8 columns):\n",
            " #   Column       Non-Null Count  Dtype  \n",
            "---  ------       --------------  -----  \n",
            " 0   hour         1459 non-null   float64\n",
            " 1   precipation  1459 non-null   float64\n",
            " 2   humid        1459 non-null   float64\n",
            " 3   visibility   1459 non-null   float64\n",
            " 4   ozone        1459 non-null   float64\n",
            " 5   pm1          1459 non-null   float64\n",
            " 6   pm2          1459 non-null   float64\n",
            " 7   ctemp        1459 non-null   float64\n",
            "dtypes: float64(8)\n",
            "memory usage: 91.3 KB\n"
          ]
        }
      ],
      "source": [
        "df2.info()"
      ]
    },
    {
      "cell_type": "code",
      "execution_count": null,
      "id": "ad60540b",
      "metadata": {
        "id": "ad60540b"
      },
      "outputs": [],
      "source": [
        "hour_scaler = MinMaxScaler()\n",
        "vis_scaler = MinMaxScaler()\n",
        "temp_scaler = StandardScaler()\n",
        "humid_scaler = StandardScaler()\n",
        "ozone_scaler = StandardScaler()\n",
        "pm1_scaler = StandardScaler()\n",
        "pm2_scaler = StandardScaler()\n",
        "ctemp_scaler = StandardScaler()"
      ]
    },
    {
      "cell_type": "code",
      "execution_count": null,
      "id": "3a09fca1",
      "metadata": {
        "id": "3a09fca1",
        "outputId": "2ac50eeb-4029-4d72-b896-6b82b1cc16e7"
      },
      "outputs": [
        {
          "data": {
            "text/plain": [
              "StandardScaler()"
            ]
          },
          "execution_count": 194,
          "metadata": {},
          "output_type": "execute_result"
        }
      ],
      "source": [
        "hour_scaler.fit(df2['hour'].to_frame())\n",
        "vis_scaler.fit(df2['visibility'].to_frame())\n",
        "temp_scaler.fit(df2['temp'].to_frame())\n",
        "humid_scaler.fit(df2['humid'].to_frame())\n",
        "ozone_scaler.fit(df2['ozone'].to_frame())\n",
        "pm1_scaler.fit(df2['pm1'].to_frame())\n",
        "pm2_scaler.fit(df2['pm2'].to_frame())\n",
        "ctemp_scaler.fit(df2['ctemp'].to_frame())"
      ]
    },
    {
      "cell_type": "code",
      "execution_count": null,
      "id": "88abc074",
      "metadata": {
        "id": "88abc074"
      },
      "outputs": [],
      "source": [
        "df2['hour'] = hour_scaler.transform(df2['hour'].to_frame())\n",
        "df2['visibility'] = vis_scaler.transform(df2['visibility'].to_frame())\n",
        "df2['temp'] = temp_scaler.transform(df2['temp'].to_frame())\n",
        "df2['humid'] = humid_scaler.transform(df2['humid'].to_frame())\n",
        "df2['ozone'] = ozone_scaler.transform(df2['ozone'].to_frame())\n",
        "df2['pm1'] = pm1_scaler.transform(df2['pm1'].to_frame())\n",
        "df2['pm2'] = pm2_scaler.transform(df2['pm2'].to_frame())\n",
        "df2['ctemp'] = ctemp_scaler.transform(df2['ctemp'].to_frame())"
      ]
    },
    {
      "cell_type": "code",
      "execution_count": null,
      "id": "6ac0c2ef",
      "metadata": {
        "id": "6ac0c2ef"
      },
      "outputs": [],
      "source": [
        "df2_test = df['cnt'].to_frame()\n",
        "df2.drop(['temp','wind','cnt'],axis=1,inplace=True)"
      ]
    },
    {
      "cell_type": "code",
      "execution_count": null,
      "id": "65ef2355",
      "metadata": {
        "id": "65ef2355"
      },
      "outputs": [],
      "source": [
        "X_train, X_test, y_train, y_test = train_test_split(df2,df2_test,\n",
        "                                                   test_size=0.3, random_state=0)"
      ]
    },
    {
      "cell_type": "code",
      "execution_count": null,
      "id": "5425d622",
      "metadata": {
        "id": "5425d622",
        "outputId": "dbbe06a2-13c3-4c44-cc50-454fdbaf0bdf"
      },
      "outputs": [
        {
          "data": {
            "text/plain": [
              "50.76664987216294"
            ]
          },
          "execution_count": 198,
          "metadata": {},
          "output_type": "execute_result"
        }
      ],
      "source": [
        "lr_reg = LinearRegression()\n",
        "lr_reg.fit(X_train, y_train)\n",
        "pred = lr_reg.predict(X_test)\n",
        "mean_squared_error(y_test,pred,squared=False)"
      ]
    },
    {
      "cell_type": "code",
      "execution_count": null,
      "id": "ed5639d1",
      "metadata": {
        "id": "ed5639d1"
      },
      "outputs": [],
      "source": [
        "rf_reg = RandomForestRegressor(n_estimators=500)\n",
        "gbm_reg = GradientBoostingRegressor(n_estimators=500)\n",
        "xgb_reg = XGBRegressor(n_estimators=500)"
      ]
    },
    {
      "cell_type": "code",
      "execution_count": null,
      "id": "2174f646",
      "metadata": {
        "id": "2174f646",
        "outputId": "96315ac5-b8bd-4525-a7f4-b4dd0c14b197"
      },
      "outputs": [
        {
          "name": "stderr",
          "output_type": "stream",
          "text": [
            "/var/folders/2d/qgxh70yx7b7_www_tw6gj9j40000gn/T/ipykernel_11434/1814119805.py:1: DataConversionWarning: A column-vector y was passed when a 1d array was expected. Please change the shape of y to (n_samples,), for example using ravel().\n",
            "  rf_reg.fit(X_train, y_train)\n"
          ]
        },
        {
          "data": {
            "text/plain": [
              "36.587195590008704"
            ]
          },
          "execution_count": 200,
          "metadata": {},
          "output_type": "execute_result"
        }
      ],
      "source": [
        "rf_reg.fit(X_train, y_train)\n",
        "pred = rf_reg.predict(X_test)\n",
        "mean_squared_error(y_test,pred,squared=False)"
      ]
    },
    {
      "cell_type": "code",
      "execution_count": null,
      "id": "5fca683f",
      "metadata": {
        "id": "5fca683f",
        "outputId": "d603a01c-07de-4b01-a853-3a187ec36f12"
      },
      "outputs": [
        {
          "name": "stderr",
          "output_type": "stream",
          "text": [
            "/Users/jo/opt/anaconda3/lib/python3.9/site-packages/sklearn/ensemble/_gb.py:494: DataConversionWarning: A column-vector y was passed when a 1d array was expected. Please change the shape of y to (n_samples, ), for example using ravel().\n",
            "  y = column_or_1d(y, warn=True)\n"
          ]
        },
        {
          "data": {
            "text/plain": [
              "38.2911440485081"
            ]
          },
          "execution_count": 201,
          "metadata": {},
          "output_type": "execute_result"
        }
      ],
      "source": [
        "gbm_reg.fit(X_train, y_train)\n",
        "pred = gbm_reg.predict(X_test)\n",
        "mean_squared_error(y_test,pred,squared=False)"
      ]
    },
    {
      "cell_type": "code",
      "execution_count": null,
      "id": "520c2564",
      "metadata": {
        "scrolled": true,
        "id": "520c2564",
        "outputId": "99f675e1-fb6c-4940-a58c-c94869deba20"
      },
      "outputs": [
        {
          "data": {
            "text/plain": [
              "39.24472100149598"
            ]
          },
          "execution_count": 202,
          "metadata": {},
          "output_type": "execute_result"
        }
      ],
      "source": [
        "xgb_reg.fit(X_train, y_train)\n",
        "pred = xgb_reg.predict(X_test)\n",
        "mean_squared_error(y_test,pred,squared=False)"
      ]
    }
  ],
  "metadata": {
    "kernelspec": {
      "display_name": "Python 3 (ipykernel)",
      "language": "python",
      "name": "python3"
    },
    "language_info": {
      "codemirror_mode": {
        "name": "ipython",
        "version": 3
      },
      "file_extension": ".py",
      "mimetype": "text/x-python",
      "name": "python",
      "nbconvert_exporter": "python",
      "pygments_lexer": "ipython3",
      "version": "3.9.12"
    },
    "toc": {
      "base_numbering": 1,
      "nav_menu": {},
      "number_sections": true,
      "sideBar": true,
      "skip_h1_title": false,
      "title_cell": "Table of Contents",
      "title_sidebar": "Contents",
      "toc_cell": false,
      "toc_position": {},
      "toc_section_display": true,
      "toc_window_display": false
    },
    "varInspector": {
      "cols": {
        "lenName": 16,
        "lenType": 16,
        "lenVar": 40
      },
      "kernels_config": {
        "python": {
          "delete_cmd_postfix": "",
          "delete_cmd_prefix": "del ",
          "library": "var_list.py",
          "varRefreshCmd": "print(var_dic_list())"
        },
        "r": {
          "delete_cmd_postfix": ") ",
          "delete_cmd_prefix": "rm(",
          "library": "var_list.r",
          "varRefreshCmd": "cat(var_dic_list()) "
        }
      },
      "types_to_exclude": [
        "module",
        "function",
        "builtin_function_or_method",
        "instance",
        "_Feature"
      ],
      "window_display": false
    },
    "colab": {
      "name": "bike.ipynb",
      "provenance": [],
      "toc_visible": true
    }
  },
  "nbformat": 4,
  "nbformat_minor": 5
}